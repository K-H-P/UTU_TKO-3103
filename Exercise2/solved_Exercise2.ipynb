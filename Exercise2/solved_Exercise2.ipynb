{
 "cells": [
  {
   "cell_type": "markdown",
   "metadata": {},
   "source": [
    "# <font color = red> *** FILL YOUR INFORMATION HERE *** </font>\n",
    "Type your name here <br>\n",
    "Student number <br>\n",
    "Utumail address  <br>\n",
    "Date  <br>"
   ]
  },
  {
   "cell_type": "markdown",
   "metadata": {
    "id": "oBNFSZGc3BPa"
   },
   "source": [
    "______________\n",
    "# Data Analysis and Knowledge Discovery 2021 <br> Exercise 2, Data Understanding and Visualization"
   ]
  },
  {
   "cell_type": "markdown",
   "metadata": {
    "id": "W3jIT0S_3BPb"
   },
   "source": [
    "- This is the template for the second exercise. You can add more code and markup cells, as long as the flow of the notebook stays fluent and logical.\n",
    "\n",
    "- The aim of this exercise is to practice data understanding; check the content and validity of the data, correct and select data, and apply basic descriptive statistics and visualization for further understanding.\n",
    "\n",
    "- Two datasets are used: shipdata1_2021.csv and shipdata2_2021.csv. The same data will be used in the next exercise, with same attributes, but in a more cleaned format.<br> \n",
    "\n",
    "### General guidance for exercises \n",
    "\n",
    "- Answer **all** questions below, even if you can't get your script to fully work\n",
    "- Write clear and easily readable code, include explanations what your code does\n",
    "- Make informative illustrations: include labels for x and y axes, legends and captions for your plots\n",
    "- Before saving the ipynb file (and possible printing) run: \"Restart & Run all\", to make sure you return a file that works as expected.\n",
    "- Grading: *Fail*/*Pass*/*Pass with honors* (+1)\n",
    "- +1 bonus point (grading *Pass with honors*) requires a **completely** correct solution and also thorough analysis. \n",
    "- If you encounter problems, Google first. If you can't find an answer to the problem, don't hesitate to ask in the Moodle discussion or directly via moodle chat or email from course assistants.\n",
    "- Note! Don't leave it to the last moment! No feedback service during weekends."
   ]
  },
  {
   "cell_type": "markdown",
   "metadata": {
    "id": "2I2WLapM3BPc"
   },
   "source": [
    "### Gather **all** packages needed for this notebook here:\n",
    "- This does not mean that you can not use any packages not imported below, but the exercise can be done without importing any extras"
   ]
  },
  {
   "cell_type": "code",
   "execution_count": 1,
   "metadata": {
    "id": "kNsRA1WF3BPc"
   },
   "outputs": [],
   "source": [
    "# Libraries\n",
    "import pandas as pd\n",
    "import numpy as np\n",
    "import matplotlib.pyplot as plt\n",
    "import seaborn as sns\n",
    "from sklearn.decomposition import PCA\n",
    "from sklearn.preprocessing import StandardScaler\n",
    "\n",
    "# Show the plots inline in the notebook\n",
    "%matplotlib inline"
   ]
  },
  {
   "cell_type": "markdown",
   "metadata": {},
   "source": [
    "________"
   ]
  },
  {
   "cell_type": "markdown",
   "metadata": {
    "id": "8AZs1Rdr3BPd"
   },
   "source": [
    "#  <font color = dimgrey> Know your data: an introduction to the data and domain knowledge </font>"
   ]
  },
  {
   "cell_type": "markdown",
   "metadata": {
    "id": "Tt8afU3t3BPe"
   },
   "source": [
    "The data used in this exercise is a subset from the Marine Traffic portal. More information available for example here:\n",
    "- https://www.marinetraffic.com/blog/information-transmitted-via-ais-signal/\n",
    "- https://www.diva-portal.org/smash/get/diva2:833998/FULLTEXT01.pdf\n",
    "- https://www.marinetraffic.com/en/data/"
   ]
  },
  {
   "cell_type": "markdown",
   "metadata": {
    "id": "2Y4dstDz3BPe"
   },
   "source": [
    "The exercise data has the following columns/attributes:\n",
    "- **MMSI**\n",
    "\n",
    "    * Maritime Mobile Service Identity. A radio-identification number that uniquely identifies a ship. The first three numbers tell the nationality of the ship - for example finnish ships would have the number 266 preceding them. The following six digits are the identifying part unique to each ship. <br> \n",
    "    \n",
    "- **Speed**\n",
    "    * The speed (in knots x10) that the subject vessel is reporting according to AIS transmissions\n",
    "- **COG**\n",
    "    * Course Over Ground<br> COG=3600 means “not available”\n",
    "- **Destination**\n",
    "    * The Destination of the subject vessel according to the AIS transmissions\n",
    "- **Ship_type**\n",
    "    * The Shiptype of the subject vessel according to AIS transmissions -\n",
    "- **Gross_tonnage**\n",
    "    * unitless measure that calculates the moulded volume of all enclosed spaces of a ship\n",
    "- **Length**\n",
    "    * The overall Length (in metres) of the subject vessel\n",
    "- **Breadth**\n",
    "    * The Breadth (in metres) of the subject vessel"
   ]
  },
  {
   "cell_type": "markdown",
   "metadata": {
    "id": "jMatXBHE3BPh"
   },
   "source": [
    "________\n",
    "## <font color = dimgrey> 1. Data import </font> \n",
    "\n",
    "Datasets for this exercise are available via the following url-paths\n",
    "- https://raw.githubusercontent.com/vajnie/DADK_2021/main/shipdata1_2021.csv\n",
    "- https://raw.githubusercontent.com/vajnie/DADK_2021/main/shipdata2_2021.csv\n",
    "_____________________\n",
    "\n",
    "**a)** First load data files shipdata1.csv and shipdata2.csv using pandas.\n",
    "-  *Note! Files were prepared by two different persons, so there are differences in the file formatting!*"
   ]
  },
  {
   "cell_type": "code",
   "execution_count": 3,
   "metadata": {},
   "outputs": [],
   "source": [
    "# Here are the paths to the files\n",
    "##################################\n",
    "# Load shipdata1.csv\n",
    "url1 = 'https://raw.githubusercontent.com/vajnie/DADK_2021/main/shipdata1_2021.csv' \n",
    "# Load shipdata2.csv\n",
    "url2 = 'https://raw.githubusercontent.com/vajnie/DADK_2021/main/shipdata2_2021.csv'\n",
    "#Print/show in notebook first 5 rows of both dataframes. "
   ]
  },
  {
   "cell_type": "code",
   "execution_count": 7,
   "metadata": {},
   "outputs": [],
   "source": [
    "# Your script for 1.a) here"
   ]
  },
  {
   "cell_type": "markdown",
   "metadata": {},
   "source": [
    "**b)** Print/show in notebook first 5 rows of both dataframes. "
   ]
  },
  {
   "cell_type": "code",
   "execution_count": 2,
   "metadata": {
    "id": "KDrTHlCb3BPi"
   },
   "outputs": [],
   "source": [
    "# Script here"
   ]
  },
  {
   "cell_type": "markdown",
   "metadata": {
    "id": "LKJX-Ese3BPh"
   },
   "source": [
    "**c)** For the vessel with **MMSI 231844000**, search for gross tonnage, length and breadth from one of the datasets "
   ]
  },
  {
   "cell_type": "code",
   "execution_count": 3,
   "metadata": {},
   "outputs": [],
   "source": [
    "# Script here\n",
    "#############"
   ]
  },
  {
   "cell_type": "markdown",
   "metadata": {
    "id": "CDmjPHM03BPj"
   },
   "source": [
    "_________\n",
    "## <font color = dimgrey> 2. Fix numeric data"
   ]
  },
  {
   "cell_type": "markdown",
   "metadata": {
    "id": "RFW1K4QC3BPj"
   },
   "source": [
    "**a)** The dataframes have one systematic difference in numerical values. Look at the previous printouts: **What is the difference?**"
   ]
  },
  {
   "cell_type": "markdown",
   "metadata": {
    "id": "YkoQ67Lc3BPj"
   },
   "source": [
    "<font color = red> \\*** Answer here ***"
   ]
  },
  {
   "cell_type": "markdown",
   "metadata": {
    "id": "92VqOOHS3BPk"
   },
   "source": [
    "**b)** Fix this issue so that you correct shipdata2 dataframe to similar formatting as in shipdata1."
   ]
  },
  {
   "cell_type": "code",
   "execution_count": 4,
   "metadata": {
    "id": "S7WlI5Tm3BPm"
   },
   "outputs": [],
   "source": [
    "# Script here"
   ]
  },
  {
   "cell_type": "markdown",
   "metadata": {
    "id": "2iYVPURG3BPm"
   },
   "source": [
    "**c)** Print first 5 rows of  the now fixed  shipdata2 dataframe. "
   ]
  },
  {
   "cell_type": "code",
   "execution_count": 5,
   "metadata": {
    "id": "8D8Aj0YS3BPm",
    "outputId": "002bbdc5-79bf-44cb-c78b-7098ca9c3e7e"
   },
   "outputs": [],
   "source": [
    "# Script here"
   ]
  },
  {
   "cell_type": "markdown",
   "metadata": {
    "id": "_B2ZPVP-3BPm"
   },
   "source": [
    "__________\n",
    "## <font color = dimgrey> 3. Combine dataframes together"
   ]
  },
  {
   "cell_type": "markdown",
   "metadata": {
    "id": "avYPCBkq3BPm"
   },
   "source": [
    "*Tip for this section: Each subtask can be easily done with one (or two) line(s) of code when using Pandas.*"
   ]
  },
  {
   "cell_type": "markdown",
   "metadata": {
    "id": "2GVOZtYH3BPm"
   },
   "source": [
    "**a)** Add an additional column/attribute Origin which indicates the origin of the data (values 1, 2, according to shipdata name). This is often helpful for possible detective work, if there are any further direpancies in the data."
   ]
  },
  {
   "cell_type": "code",
   "execution_count": 6,
   "metadata": {
    "id": "YyI8heoB3BPn"
   },
   "outputs": [],
   "source": [
    "# Script here"
   ]
  },
  {
   "cell_type": "markdown",
   "metadata": {
    "id": "uhtSRP543BPn"
   },
   "source": [
    "**b)** Combine the two separate dataframes as one new dataframe."
   ]
  },
  {
   "cell_type": "code",
   "execution_count": 7,
   "metadata": {
    "id": "1LgPCG6B3BPn"
   },
   "outputs": [],
   "source": [
    "# Script here"
   ]
  },
  {
   "cell_type": "markdown",
   "metadata": {
    "id": "YCrVo1xA3BPn"
   },
   "source": [
    "**c)** Check a sample of the new dataframe by taking a random sample of six rows and printing it."
   ]
  },
  {
   "cell_type": "code",
   "execution_count": 8,
   "metadata": {
    "id": "NX2ZGezx3BPn",
    "outputId": "3fc6ab80-4d46-4ad9-805c-fc04a7e48b22"
   },
   "outputs": [],
   "source": [
    "# Script here"
   ]
  },
  {
   "cell_type": "markdown",
   "metadata": {
    "id": "w4j_c3-13BPn"
   },
   "source": [
    "**d)** Check the shape of the new dataframe, try using df.info(). What information can you find in the output?"
   ]
  },
  {
   "cell_type": "code",
   "execution_count": 9,
   "metadata": {
    "id": "YPZNSIH83BPo",
    "outputId": "2b6da931-c8bd-44ca-dcd9-a22055f359e0"
   },
   "outputs": [],
   "source": [
    "# Script here"
   ]
  },
  {
   "cell_type": "markdown",
   "metadata": {},
   "source": [
    "<font color = red> \\*** Answer here *** </font>"
   ]
  },
  {
   "cell_type": "markdown",
   "metadata": {
    "id": "qiwNVgA83BPo"
   },
   "source": [
    "__________\n",
    "## <font color = lightcoral> 4. Data cleaning"
   ]
  },
  {
   "cell_type": "markdown",
   "metadata": {
    "id": "n924dCoG3BPo"
   },
   "source": [
    "**a)** Check if there are any missing data."
   ]
  },
  {
   "cell_type": "code",
   "execution_count": 10,
   "metadata": {
    "id": "eWBFZihT3BPo",
    "outputId": "6f22f0fa-a0d2-41a9-bde7-8bbabe9ab62d"
   },
   "outputs": [],
   "source": [
    "# Script here"
   ]
  },
  {
   "cell_type": "markdown",
   "metadata": {
    "id": "hG1BqIOX3BPo"
   },
   "source": [
    "**b)** Check if there any duplicate data; any vessel in the dataframe several times?"
   ]
  },
  {
   "cell_type": "code",
   "execution_count": 11,
   "metadata": {
    "id": "srOWeAmf3BPp",
    "outputId": "44866753-1682-42dd-87cd-025a542f71c4"
   },
   "outputs": [],
   "source": [
    "# Script here"
   ]
  },
  {
   "cell_type": "markdown",
   "metadata": {
    "id": "YgDH1RGZ3BPp"
   },
   "source": [
    "**c)** Resolve missing data and remove duplicate data."
   ]
  },
  {
   "cell_type": "code",
   "execution_count": 12,
   "metadata": {
    "id": "rSSkA8no3BPp"
   },
   "outputs": [],
   "source": [
    "# Script here"
   ]
  },
  {
   "cell_type": "markdown",
   "metadata": {},
   "source": [
    "**d)** Print out proof that there are no more missing or duplicate data"
   ]
  },
  {
   "cell_type": "code",
   "execution_count": 13,
   "metadata": {},
   "outputs": [],
   "source": [
    "# Script here"
   ]
  },
  {
   "cell_type": "markdown",
   "metadata": {
    "id": "BgWFolgS3BPp"
   },
   "source": [
    "____________\n",
    "## <font color = Navy> 5. Descriptive statistics"
   ]
  },
  {
   "cell_type": "markdown",
   "metadata": {
    "id": "v6qxmG1m3BPp"
   },
   "source": [
    "####  a) Check data types and correct if needed\n",
    "\n",
    "Because Python does not require separate variable declaration, it is always a good practice to check the data types. Check the data types for the attributes and \n",
    "- convert MMSI to object or string if needed (e.g. to exclude from numeric comparison)\n",
    "- convert object or string typed numeric attributes to float."
   ]
  },
  {
   "cell_type": "code",
   "execution_count": 14,
   "metadata": {
    "id": "npcsVZQF3BPq"
   },
   "outputs": [],
   "source": [
    "# Script here"
   ]
  },
  {
   "cell_type": "markdown",
   "metadata": {
    "id": "HP7d0vXX3BPq"
   },
   "source": [
    "**b)** Print count, mean. Std, min, quartiles (25%, 50%, 75%) and max for all numeric attributes \n",
    "- *This can be done with one line - if your answer gets long consider changing your approach.*"
   ]
  },
  {
   "cell_type": "code",
   "execution_count": 14,
   "metadata": {
    "id": "npcsVZQF3BPq"
   },
   "outputs": [],
   "source": [
    "# Script here"
   ]
  },
  {
   "cell_type": "markdown",
   "metadata": {},
   "source": [
    "**b)** Print count, mean. Std, min, quartiles (25%, 50%, 75%) and max for all numeric attributes. Check the values. Does the comparison make sense here, taken also the meaning of each attribute (i.e. understand your data)?"
   ]
  },
  {
   "cell_type": "code",
   "execution_count": 15,
   "metadata": {
    "id": "Kzh8DvSl3BPq",
    "outputId": "581dfeee-085f-4888-b82a-849a50348e96"
   },
   "outputs": [],
   "source": [
    "# Script here"
   ]
  },
  {
   "cell_type": "markdown",
   "metadata": {},
   "source": [
    "<font color = red> \\*** Answer here ***"
   ]
  },
  {
   "cell_type": "markdown",
   "metadata": {
    "id": "a50xiyZT3BPq"
   },
   "source": [
    "**c)** Choose Breadth and two (2) other numeric attributes that you would like to focus and know more. Print descriptive statistics only for these **but leave out everything else except mean, std and max**. \n",
    "\n",
    "- *Tip: check the type of the output of the function you used in the last step. What is the type and how could you subset it? What did you learn about pandas indexing in the first exercise?*"
   ]
  },
  {
   "cell_type": "code",
   "execution_count": 16,
   "metadata": {
    "id": "QsXlUz073BPq",
    "outputId": "29103aa0-86e1-4380-ab1d-f77c0184e7c5",
    "scrolled": true
   },
   "outputs": [],
   "source": [
    "# Script here"
   ]
  },
  {
   "cell_type": "markdown",
   "metadata": {
    "id": "0TQCYq-z3BPr"
   },
   "source": [
    " **d)** Descriptive statistics by Ship_type <br>\n",
    "- Print the descriptive statistics now by each ship type for those three attributes used in the previous task.<br> \n",
    "\"by\" here means that you group by that variable.\n",
    "- *Tip! A wide Pandas table can be easily rotated using transpose, for better readability in the jupyter notebook.*<br>"
   ]
  },
  {
   "cell_type": "code",
   "execution_count": 17,
   "metadata": {
    "id": "4l8f-3i_3BPr",
    "outputId": "92b4996d-86f7-46cd-c6a6-b02c9dad43fc",
    "scrolled": true
   },
   "outputs": [],
   "source": [
    "# Script here"
   ]
  },
  {
   "cell_type": "markdown",
   "metadata": {},
   "source": [
    "**e)** How many ship types there are? Which Ship type has the largest breadth?"
   ]
  },
  {
   "cell_type": "markdown",
   "metadata": {},
   "source": [
    "<font color = red> \\*** Answer here *** </font>"
   ]
  },
  {
   "cell_type": "markdown",
   "metadata": {},
   "source": [
    "_______________\n",
    "## <font color = forestgreen> 6. Visualizations </font>"
   ]
  },
  {
   "cell_type": "markdown",
   "metadata": {},
   "source": [
    "### A few more words on matplotlib and seaborn\n",
    "\n",
    "As you saw in the first exercise, matplotlib plotting is structured with the 'axes' and 'figure' objects. The meaning and the names of these can be somewhat confusing so here is a small example and explanation of them to avoid confusion in the future. This small explanation tries to help you avoid common mistakes and frustration. \n",
    "    \n",
    "- The **<font color = dimgrey> figure </font>** object contains all plotting elements, in other words everything we see. You can think of it as a canvas where things are drawn. \n",
    "- A figure can have many **<font color = blue> axes </font>**. They are the objects you plot on to. The axes can even overlap and their position is defined relative to the figure. \n",
    "    \n",
    "####  Seaborn and matplotlib\n",
    "- Seaborn goes together with matplotlib, and can be thought to be an extension of it, but there are some things that can confuse you along the way if their relationship is presented like this. One tip in particular that one might have problems with is that in seaborn there are figure-level, axes-level plots. Figure level plots dont work with a matplotlib subplot and are used so that only one plot is made per figure. Axes level plots can be put into subplots like matplotlib plots as you saw in the first exercise. \n",
    "    \n",
    "    \n",
    "     \n",
    "- Below is an example that illustrates how **<font color = dimgrey> figures </font>**and **<font color = blue> axes </font>** work together in matplotlib. The comments explain what is done in every row of code. <font color = green> You are encouraged to play around with it, but its not required in terms of the exercise\" </font>. You can for example try to make a similar plot-inside-plot with the exercise data.\n",
    "    "
   ]
  },
  {
   "cell_type": "code",
   "execution_count": 12,
   "metadata": {},
   "outputs": [],
   "source": [
    "#Lets make some example data.\n",
    "x_example_data = np.linspace(0,5,10)\n",
    "y_example_data = x_example_data**2"
   ]
  },
  {
   "cell_type": "code",
   "execution_count": 13,
   "metadata": {},
   "outputs": [
    {
     "data": {
      "text/plain": [
       "Text(3, 5, 'This is a text object relative to the inner axes')"
      ]
     },
     "execution_count": 13,
     "metadata": {},
     "output_type": "execute_result"
    },
    {
     "data": {
      "image/png": "[encoded data removed]",
      "text/plain": [
       "<Figure size 800x800 with 2 Axes>"
      ]
     },
     "metadata": {
      "needs_background": "light"
     },
     "output_type": "display_data"
    }
   ],
   "source": [
    "### Make the figure and axes objects ###\n",
    "example_figure = plt.figure(figsize =(8,8), dpi = 100) #you give the size of the figure as a tuple of inches\n",
    "example_axes_outer = example_figure.add_axes([0.1, 0.1, 0.9, 0.9]) #The list argument gives the relative location of the axes in percentage from the corners of the figure. The order is left, bottom, right, top. \n",
    "example_axes_outer.set_xlabel(\"This is how you set an x-axis label to an axes\")\n",
    "example_axes_outer.set_ylabel(\"The y-label of an axes is set like this\")\n",
    "example_axes_outer.set_title(\"We learned how to give an axes a title!\")\n",
    "example_axes_inner = example_figure.add_axes([0.45, 0.45, 0.4, 0.3])\n",
    "example_axes_inner.set_title(\"This axes has a title too\")\n",
    "\n",
    "### Add something to the axes ###\n",
    "example_axes_inner.plot(x_example_data, y_example_data)\n",
    "\n",
    "# Multiple things, like lines can be plotted on same axis. \n",
    "example_axes_outer.plot(x_example_data**4, y_example_data**2)\n",
    "example_axes_outer.plot(x_example_data**7, y_example_data**2)\n",
    "\n",
    "# If you want to add other objects, you add them to axes too, like text\n",
    "# Now you specify the location relative to the parent axes\n",
    "example_axes_inner.text(3, 5, \"This is a text object relative to the inner axes\")\n",
    "\n",
    "#Many more things can be added to axes in a similar way, not just text. \n",
    "#For more information there are many good tutorials available for example in youtube. "
   ]
  },
  {
   "cell_type": "markdown",
   "metadata": {
    "id": "IetKacst3BPr"
   },
   "source": [
    "_________\n",
    "## <font color = Green> 7. Visualizing attribute value distributions </font>\n",
    "**a)** Plot four histrograms of the Breadth using the Sturges', Scott's, square root and Freedman-Diaconis' methods to determine the number of bins. How are the numbers of bins calculated? Compare the distributions of different ship types. Do you think this a feasible attribute for classification, why? "
   ]
  },
  {
   "cell_type": "markdown",
   "metadata": {},
   "source": [
    "- Tip: it would be nice to use subplots when you have more than one plot. "
   ]
  },
  {
   "cell_type": "code",
   "execution_count": 20,
   "metadata": {
    "id": "V5FPrEaL3BPr",
    "outputId": "04592c55-3176-4ebb-d17d-5136c3d2ef07"
   },
   "outputs": [],
   "source": [
    "### Script here"
   ]
  },
  {
   "cell_type": "markdown",
   "metadata": {},
   "source": [
    "<font color = red> \\*** Answer here *** </font>"
   ]
  },
  {
   "cell_type": "markdown",
   "metadata": {},
   "source": [
    "**b)** Compare the distributions of the Breath variable between different ship types. Do you think this a feasible attribute for classification, why?\n",
    "- *Tip What kind of plot can you do on a continuous variable? You only need to produce one plot, not multiple.*"
   ]
  },
  {
   "cell_type": "code",
   "execution_count": 21,
   "metadata": {
    "id": "Fan5XYdm3BPs",
    "outputId": "ba1b1da8-8b7c-4ab9-a791-c70beb4aa98e"
   },
   "outputs": [],
   "source": [
    "# Script here"
   ]
  },
  {
   "cell_type": "markdown",
   "metadata": {},
   "source": [
    "<font color = red> \\*** Answer here *** </font>"
   ]
  },
  {
   "cell_type": "markdown",
   "metadata": {
    "id": "4MrPLsmk3BPs"
   },
   "source": [
    "**c)**\tExplain what a boxplot is. Plot them for the numeric attributes (excluding 'Origin') grouped by the ship type. Do you see outliers that require some action?"
   ]
  },
  {
   "cell_type": "code",
   "execution_count": 22,
   "metadata": {
    "id": "ZjNifEM33BPs",
    "outputId": "4ea4f6cd-e9c8-4071-d3f0-5ef80419abb0"
   },
   "outputs": [],
   "source": [
    "# Script here"
   ]
  },
  {
   "cell_type": "markdown",
   "metadata": {},
   "source": [
    "<font color = red> \\*** Answer here *** </font>"
   ]
  },
  {
   "cell_type": "markdown",
   "metadata": {
    "id": "SgZ6p-4T3BPs"
   },
   "source": [
    "##  <font color = purple> 8. Relationships between attributes"
   ]
  },
  {
   "cell_type": "markdown",
   "metadata": {
    "id": "PAT2A9VK3BPt"
   },
   "source": [
    "#### a) Plot pairwise scatter plots of the numerical attributes. What kind of relationships can you see? Can you see any outliers? \n",
    "- *this can be done in one line*"
   ]
  },
  {
   "cell_type": "code",
   "execution_count": 23,
   "metadata": {
    "id": "sA5MkDy23BPt",
    "outputId": "945b4b1e-3ec0-4419-d3ae-b8a06610f088",
    "scrolled": false
   },
   "outputs": [],
   "source": [
    "# Script here"
   ]
  },
  {
   "cell_type": "markdown",
   "metadata": {},
   "source": [
    "<font color = red> \\*** Answer here *** </font>"
   ]
  },
  {
   "cell_type": "markdown",
   "metadata": {
    "id": "D67o5rcY3BPt"
   },
   "source": [
    "**b)** Make a new clean dataframe without outlier(s) and replot. What difference do you see? \n",
    "- *include the most relevant attributes only, or limit to those needed in next task*"
   ]
  },
  {
   "cell_type": "code",
   "execution_count": 24,
   "metadata": {
    "id": "dOq4Unkw3BPt",
    "outputId": "21628bb7-371e-466a-8f57-78dcad89ad16"
   },
   "outputs": [],
   "source": [
    "# Script here"
   ]
  },
  {
   "cell_type": "markdown",
   "metadata": {},
   "source": [
    "<font color = red> \\*** Answer here *** </font>"
   ]
  },
  {
   "cell_type": "markdown",
   "metadata": {
    "id": "JSTWEkRq3BPt"
   },
   "source": [
    "__________\n",
    "## <font color = purple> 9. Correlation and heatmap </font>"
   ]
  },
  {
   "cell_type": "markdown",
   "metadata": {
    "id": "2MJ3xq4m3BPt"
   },
   "source": [
    "**a)** Explain what are\n",
    "- Pearson's correlation\n",
    "- Spearman's rho and \n",
    "- Kendall's tau?"
   ]
  },
  {
   "cell_type": "markdown",
   "metadata": {},
   "source": [
    "<font color = red> \\*** Answer here *** </font>"
   ]
  },
  {
   "cell_type": "markdown",
   "metadata": {},
   "source": [
    "**b)** Calculate the correlation coefficient matrices. What kind of relationships there are between the attributes? You can use a heatmap to visualize the matrices and more easily see the strength of the relationship. **See what kind of a difference there is between the cleaned dataset and the non-cleaned dataset.**"
   ]
  },
  {
   "cell_type": "code",
   "execution_count": 25,
   "metadata": {},
   "outputs": [],
   "source": [
    "#Script here"
   ]
  },
  {
   "cell_type": "markdown",
   "metadata": {},
   "source": [
    "<font color = red> \\*** Answer here *** </font>"
   ]
  },
  {
   "cell_type": "markdown",
   "metadata": {
    "id": "bea2hNxp3BPv"
   },
   "source": [
    "____________\n",
    "## <font color = dollargreen >   10. BONUS Dimensionality reduction</font>  \n",
    "- <font color = red> Answers that only state what you can see are not enough. </font> You need to explain _why_ rather than what and demonstrate you understand what you are doing. By copypasting code from stackoverflow you will not learn much.\n",
    "____________"
   ]
  },
  {
   "cell_type": "markdown",
   "metadata": {
    "id": "4mco9ZWp3BPv"
   },
   "source": [
    "- **a)** Explain what principal component analysis is."
   ]
  },
  {
   "cell_type": "markdown",
   "metadata": {},
   "source": [
    "<font color = red> \\*** Answer here *** </font>"
   ]
  },
  {
   "cell_type": "markdown",
   "metadata": {
    "id": "4mco9ZWp3BPv"
   },
   "source": [
    "- **b)** Do it with and without z-score standardization. "
   ]
  },
  {
   "cell_type": "code",
   "execution_count": 26,
   "metadata": {
    "id": "oa097acT3BPv",
    "outputId": "b23730b5-ba9c-4a73-d6bd-7498ae8d8ad8",
    "scrolled": true
   },
   "outputs": [],
   "source": [
    "# Script: PCA with z-score standardization"
   ]
  },
  {
   "cell_type": "code",
   "execution_count": 27,
   "metadata": {},
   "outputs": [],
   "source": [
    "# Script: PCA without z-score standardization"
   ]
  },
  {
   "cell_type": "markdown",
   "metadata": {
    "id": "4mco9ZWp3BPv"
   },
   "source": [
    "- **c)** Visualize the results with a scatter plot by projecting the data to the first two principal components."
   ]
  },
  {
   "cell_type": "code",
   "execution_count": 28,
   "metadata": {},
   "outputs": [],
   "source": [
    "# Script: Plot principal components"
   ]
  },
  {
   "cell_type": "markdown",
   "metadata": {
    "id": "4mco9ZWp3BPv"
   },
   "source": [
    "- **d)** How much of the variation is explained with the two principal components? What do you think this means? Where does the variation come from? "
   ]
  },
  {
   "cell_type": "code",
   "execution_count": 29,
   "metadata": {},
   "outputs": [],
   "source": [
    "# Script: Explore variation"
   ]
  },
  {
   "cell_type": "markdown",
   "metadata": {},
   "source": [
    "<font color = red> \\*** Answer here *** </font>"
   ]
  }
 ],
 "metadata": {
  "colab": {
   "name": "DADK_exercise_2_2021.ipynb",
   "provenance": []
  },
  "kernelspec": {
   "display_name": "Python 3",
   "language": "python",
   "name": "python3"
  },
  "language_info": {
   "codemirror_mode": {
    "name": "ipython",
    "version": 3
   },
   "file_extension": ".py",
   "mimetype": "text/x-python",
   "name": "python",
   "nbconvert_exporter": "python",
   "pygments_lexer": "ipython3",
   "version": "3.8.8"
  },
  "toc": {
   "base_numbering": 1,
   "nav_menu": {
    "height": "180px",
    "width": "160px"
   },
   "number_sections": false,
   "sideBar": true,
   "skip_h1_title": true,
   "title_cell": "Table of Contents",
   "title_sidebar": "Contents",
   "toc_cell": false,
   "toc_position": {},
   "toc_section_display": true,
   "toc_window_display": true
  }
 },
 "nbformat": 4,
 "nbformat_minor": 1
}
