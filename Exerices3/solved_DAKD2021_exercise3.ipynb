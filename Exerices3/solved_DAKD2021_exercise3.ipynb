{
 "cells": [
  {
   "cell_type": "markdown",
   "metadata": {
    "id": "fRx75YvD3BPW"
   },
   "source": [
    "### <font color = red> *** FILL HERE *** </font>\n",
    "Type your name here <br>\n",
    "Student number <br>\n",
    "Utumail address  <br>\n",
    "Date  <br>"
   ]
  },
  {
   "cell_type": "markdown",
   "metadata": {
    "id": "Rpio-nMAoDwq"
   },
   "source": [
    "# Data Analysis and Knowledge Discovery: Exercise 3, Supervised learning"
   ]
  },
  {
   "cell_type": "markdown",
   "metadata": {
    "id": "90c9fF6woDwr"
   },
   "source": [
    "This is the template for the third exercise. The idea of this exercise is to apply supervised learning to predict the ship type using certain attributes (speed, destination harbour...) and a K nearest neighbors (kNN) classifier.\n",
    "\n",
    "### General guidance for exercises \n",
    "\n",
    "- Answer **all** questions below, even if you can't get your script to fully work\n",
    "- Write clear and easily readable code, include explanations what your code does\n",
    "- Make informative illustrations: include labels for x and y axes, legends and captions for your plots\n",
    "- Before saving the ipynb file (and possible printing) run: \"Restart & Run all\", to make sure you return a file that works as expected.\n",
    "- Grading: *Fail*/*Pass*/*Pass with honors* (+1)\n",
    "- +1 bonus point (grading *Pass with honors*) requires a **completely** correct solution and also thorough analysis. \n",
    "- If you encounter problems, Google first. If you can't find an answer to the problem, don't hesitate to ask in the Moodle discussion or directly via moodle chat or email from the course assistant responsible for the exercise, Valtteri Nieminen, vajnie@utu.fi <font color = red></font>\n",
    "- Note! Don't leave it to the last moment! No feedback service during weekends.\n",
    "- The deadline is <font color = red> on 6.12, 19:00</font>\n",
    "- Using the colors for titles in markdown makes the document more readable and easier to check. "
   ]
  },
  {
   "cell_type": "markdown",
   "metadata": {},
   "source": [
    "- This excercise is a bit more freeform than the last one and you don't have to stick to only the cells that are already in the notebook - you can make more if you need to, but it is advisable to comment on new cells what the cell is related to. \n",
    "- There are also added summaries of whats included inthe subparts of exercises  just to help you get a better picture of what is required. You will still answer these excercises under their own titles."
   ]
  },
  {
   "cell_type": "markdown",
   "metadata": {
    "id": "2I2WLapM3BPc"
   },
   "source": [
    "### Gather **all** packages needed for this notebook here:\n",
    "- you can use other packages as well, but this excercise can be completed with those below"
   ]
  },
  {
   "cell_type": "code",
   "execution_count": 1,
   "metadata": {
    "id": "iypIAVquoDws"
   },
   "outputs": [],
   "source": [
    "import numpy as np\n",
    "import pandas as pd\n",
    "import seaborn as sb\n",
    "import matplotlib.pyplot as plt\n",
    "import math as math\n",
    "import sklearn as sklearn\n",
    "import random as random\n",
    "from sklearn.preprocessing import StandardScaler\n",
    "from sklearn.model_selection import train_test_split\n",
    "from sklearn.neighbors import KNeighborsClassifier\n",
    "from sklearn import metrics\n",
    "from sklearn.model_selection import LeaveOneOut"
   ]
  },
  {
   "cell_type": "markdown",
   "metadata": {
    "id": "ieiIXrrwoDws"
   },
   "source": [
    "________\n",
    "## <font color = dimgrey> Data import </font> \n"
   ]
  },
  {
   "cell_type": "code",
   "execution_count": 2,
   "metadata": {},
   "outputs": [],
   "source": [
    "data_path = \"https://raw.githubusercontent.com/vajnie/DADK_2021/main/shipdata_2021.csv\""
   ]
  },
  {
   "cell_type": "code",
   "execution_count": 3,
   "metadata": {
    "id": "_Swh8BxGoDwu",
    "outputId": "ea60da51-725b-443b-faad-2865fb9fc6db"
   },
   "outputs": [],
   "source": [
    "#Import the data here\n",
    "data = pd.read_csv(data_path) #data is presumed to be in the same folder. "
   ]
  },
  {
   "cell_type": "markdown",
   "metadata": {
    "id": "Wte8FnIsoDwv"
   },
   "source": [
    "_______________\n",
    "## <font color = dimgrey> 1) Data preprocessing\n",
    "Below are all the questions related to this topic, but you should put them under their own respective titles that are found below."
   ]
  },
  {
   "cell_type": "markdown",
   "metadata": {
    "id": "d9plIRaMoDww"
   },
   "source": [
    "- a) First, find out how many different destinations there are in the data. Do you need to make any preprocessing? **1p** <br>\n",
    "- b) Destination harbor is a categorical variable. It needs to be converted into a numerical representation. Explain, why do you need to make this step? You can use get_dummies from pandas to implement one-hot coding for categorical features **1p**\n",
    "\n",
    "- c) Plot Gross tonnage versus the ship Length. Use different colors for different ship types. According to the plot, there is one <b> clear outlier. </b>  Correct the outlying value by changing it to the value 326 and rerun the plot after you have made the correction. **1p**\n",
    "- d) It is good to exploit domain knowledge and make some reasonable transformation to the feature values to improve the expected results and/or to avoid redundancy. Find out what gross tonnage means. Make some transformation to Length values to acquire a linear relationship between the transformed length and Gross tonnage values. You can find the needed information  https://en.wikipedia.org/wiki/Gross_tonnage. Look at the formula and think how you can get the two variables similarly scaled. If you are having trouble, just experiment with different transformations before asking help. By plotting you can see what the relationship looks like after a transformation you have tried **1p**\n",
    "- e) The numerical variables have quite different ranges. To ensure that all variables can have the same importance on the model, perform Z-score standardization. Perform it for speed, the ***transformed length*** variable, and breadth **1p**\n",
    "_______________________"
   ]
  },
  {
   "cell_type": "markdown",
   "metadata": {
    "id": "hSCTfqgpoDwx"
   },
   "source": [
    "#### <font color = dimgrey> a) Find out how many different destinations there are in the data. Are there any mistakes and do you need to do any preprocessing? Give your code and answer below **1p** </font>"
   ]
  },
  {
   "cell_type": "code",
   "execution_count": 5,
   "metadata": {
    "id": "akrvbi4xoDwy",
    "outputId": "b5e1d60a-2384-4dc4-de31-303cd0fdb7a6"
   },
   "outputs": [
    {
     "name": "stdout",
     "output_type": "stream",
     "text": [
      "Destination\n",
      "Hamina           19\n",
      "Helsinki          1\n",
      "Kotka             8\n",
      "Kronshtadt        2\n",
      "Kunda             2\n",
      "Muuga            12\n",
      "Paldiski          9\n",
      "Porvoo           18\n",
      "Primorsk          5\n",
      "Sillamae          1\n",
      "Sillamäe          2\n",
      "Tallinn          12\n",
      "Ust-Luga         16\n",
      "Valko-Loviisa     9\n",
      "Viipuri           6\n",
      "Vuosaari          7\n",
      "Vysotsk           5\n",
      "Name: MMSI, dtype: int64\n"
     ]
    }
   ],
   "source": [
    "### Code for 1.a)\n",
    "uniq = data.groupby('Destination')['MMSI'].nunique()\n",
    "print (uniq)"
   ]
  },
  {
   "cell_type": "markdown",
   "metadata": {},
   "source": [
    "<font color = red> \\*** Some of the destinations are misspelled. ***"
   ]
  },
  {
   "cell_type": "markdown",
   "metadata": {
    "id": "9BrZ_bsToDwy"
   },
   "source": [
    "____________\n",
    "#### <font color = dimgrey> b) Destination harbor is a categorical variable. It needs to be somehow converted into a numerical expression. Explain, why do you need to make this step? \n",
    "You can use get_dummies from pandas to implement onehot coding for categorical features **1p**"
   ]
  },
  {
   "cell_type": "code",
   "execution_count": 11,
   "metadata": {
    "id": "LrrstGzeoDwz",
    "outputId": "819497fd-43db-4a61-a100-af1cd5bb9085"
   },
   "outputs": [
    {
     "data": {
      "text/html": [
       "<div>\n",
       "<style scoped>\n",
       "    .dataframe tbody tr th:only-of-type {\n",
       "        vertical-align: middle;\n",
       "    }\n",
       "\n",
       "    .dataframe tbody tr th {\n",
       "        vertical-align: top;\n",
       "    }\n",
       "\n",
       "    .dataframe thead th {\n",
       "        text-align: right;\n",
       "    }\n",
       "</style>\n",
       "<table border=\"1\" class=\"dataframe\">\n",
       "  <thead>\n",
       "    <tr style=\"text-align: right;\">\n",
       "      <th></th>\n",
       "      <th>MMSI</th>\n",
       "      <th>Speed</th>\n",
       "      <th>COG</th>\n",
       "      <th>Ship_type</th>\n",
       "      <th>Gross_tonnage</th>\n",
       "      <th>Length</th>\n",
       "      <th>Breadth</th>\n",
       "      <th>Destination_Hamina</th>\n",
       "      <th>Destination_Helsinki</th>\n",
       "      <th>Destination_Kotka</th>\n",
       "      <th>...</th>\n",
       "      <th>Destination_Porvoo</th>\n",
       "      <th>Destination_Primorsk</th>\n",
       "      <th>Destination_Sillamae</th>\n",
       "      <th>Destination_Sillamäe</th>\n",
       "      <th>Destination_Tallinn</th>\n",
       "      <th>Destination_Ust-Luga</th>\n",
       "      <th>Destination_Valko-Loviisa</th>\n",
       "      <th>Destination_Viipuri</th>\n",
       "      <th>Destination_Vuosaari</th>\n",
       "      <th>Destination_Vysotsk</th>\n",
       "    </tr>\n",
       "  </thead>\n",
       "  <tbody>\n",
       "    <tr>\n",
       "      <th>0</th>\n",
       "      <td>212209000</td>\n",
       "      <td>10.1377</td>\n",
       "      <td>64.3074</td>\n",
       "      <td>Cargo</td>\n",
       "      <td>3416</td>\n",
       "      <td>94.91</td>\n",
       "      <td>15.34</td>\n",
       "      <td>1</td>\n",
       "      <td>0</td>\n",
       "      <td>0</td>\n",
       "      <td>...</td>\n",
       "      <td>0</td>\n",
       "      <td>0</td>\n",
       "      <td>0</td>\n",
       "      <td>0</td>\n",
       "      <td>0</td>\n",
       "      <td>0</td>\n",
       "      <td>0</td>\n",
       "      <td>0</td>\n",
       "      <td>0</td>\n",
       "      <td>0</td>\n",
       "    </tr>\n",
       "    <tr>\n",
       "      <th>1</th>\n",
       "      <td>212436000</td>\n",
       "      <td>13.5256</td>\n",
       "      <td>77.0755</td>\n",
       "      <td>Tanker</td>\n",
       "      <td>6280</td>\n",
       "      <td>116.90</td>\n",
       "      <td>18.00</td>\n",
       "      <td>1</td>\n",
       "      <td>0</td>\n",
       "      <td>0</td>\n",
       "      <td>...</td>\n",
       "      <td>0</td>\n",
       "      <td>0</td>\n",
       "      <td>0</td>\n",
       "      <td>0</td>\n",
       "      <td>0</td>\n",
       "      <td>0</td>\n",
       "      <td>0</td>\n",
       "      <td>0</td>\n",
       "      <td>0</td>\n",
       "      <td>0</td>\n",
       "    </tr>\n",
       "    <tr>\n",
       "      <th>2</th>\n",
       "      <td>219082000</td>\n",
       "      <td>9.9416</td>\n",
       "      <td>74.6762</td>\n",
       "      <td>Tanker</td>\n",
       "      <td>9980</td>\n",
       "      <td>141.20</td>\n",
       "      <td>21.90</td>\n",
       "      <td>1</td>\n",
       "      <td>0</td>\n",
       "      <td>0</td>\n",
       "      <td>...</td>\n",
       "      <td>0</td>\n",
       "      <td>0</td>\n",
       "      <td>0</td>\n",
       "      <td>0</td>\n",
       "      <td>0</td>\n",
       "      <td>0</td>\n",
       "      <td>0</td>\n",
       "      <td>0</td>\n",
       "      <td>0</td>\n",
       "      <td>0</td>\n",
       "    </tr>\n",
       "    <tr>\n",
       "      <th>3</th>\n",
       "      <td>219083000</td>\n",
       "      <td>11.6038</td>\n",
       "      <td>74.7529</td>\n",
       "      <td>Tanker</td>\n",
       "      <td>9980</td>\n",
       "      <td>141.20</td>\n",
       "      <td>21.60</td>\n",
       "      <td>1</td>\n",
       "      <td>0</td>\n",
       "      <td>0</td>\n",
       "      <td>...</td>\n",
       "      <td>0</td>\n",
       "      <td>0</td>\n",
       "      <td>0</td>\n",
       "      <td>0</td>\n",
       "      <td>0</td>\n",
       "      <td>0</td>\n",
       "      <td>0</td>\n",
       "      <td>0</td>\n",
       "      <td>0</td>\n",
       "      <td>0</td>\n",
       "    </tr>\n",
       "    <tr>\n",
       "      <th>4</th>\n",
       "      <td>219426000</td>\n",
       "      <td>11.9203</td>\n",
       "      <td>56.3253</td>\n",
       "      <td>Tanker</td>\n",
       "      <td>3219</td>\n",
       "      <td>99.90</td>\n",
       "      <td>15.00</td>\n",
       "      <td>1</td>\n",
       "      <td>0</td>\n",
       "      <td>0</td>\n",
       "      <td>...</td>\n",
       "      <td>0</td>\n",
       "      <td>0</td>\n",
       "      <td>0</td>\n",
       "      <td>0</td>\n",
       "      <td>0</td>\n",
       "      <td>0</td>\n",
       "      <td>0</td>\n",
       "      <td>0</td>\n",
       "      <td>0</td>\n",
       "      <td>0</td>\n",
       "    </tr>\n",
       "    <tr>\n",
       "      <th>...</th>\n",
       "      <td>...</td>\n",
       "      <td>...</td>\n",
       "      <td>...</td>\n",
       "      <td>...</td>\n",
       "      <td>...</td>\n",
       "      <td>...</td>\n",
       "      <td>...</td>\n",
       "      <td>...</td>\n",
       "      <td>...</td>\n",
       "      <td>...</td>\n",
       "      <td>...</td>\n",
       "      <td>...</td>\n",
       "      <td>...</td>\n",
       "      <td>...</td>\n",
       "      <td>...</td>\n",
       "      <td>...</td>\n",
       "      <td>...</td>\n",
       "      <td>...</td>\n",
       "      <td>...</td>\n",
       "      <td>...</td>\n",
       "      <td>...</td>\n",
       "    </tr>\n",
       "    <tr>\n",
       "      <th>129</th>\n",
       "      <td>273374820</td>\n",
       "      <td>10.0396</td>\n",
       "      <td>74.6253</td>\n",
       "      <td>Tanker</td>\n",
       "      <td>4979</td>\n",
       "      <td>139.90</td>\n",
       "      <td>16.70</td>\n",
       "      <td>0</td>\n",
       "      <td>0</td>\n",
       "      <td>0</td>\n",
       "      <td>...</td>\n",
       "      <td>0</td>\n",
       "      <td>0</td>\n",
       "      <td>0</td>\n",
       "      <td>0</td>\n",
       "      <td>0</td>\n",
       "      <td>0</td>\n",
       "      <td>0</td>\n",
       "      <td>0</td>\n",
       "      <td>0</td>\n",
       "      <td>1</td>\n",
       "    </tr>\n",
       "    <tr>\n",
       "      <th>130</th>\n",
       "      <td>273385070</td>\n",
       "      <td>9.3507</td>\n",
       "      <td>74.5454</td>\n",
       "      <td>Tanker</td>\n",
       "      <td>4979</td>\n",
       "      <td>139.90</td>\n",
       "      <td>16.94</td>\n",
       "      <td>0</td>\n",
       "      <td>0</td>\n",
       "      <td>0</td>\n",
       "      <td>...</td>\n",
       "      <td>0</td>\n",
       "      <td>0</td>\n",
       "      <td>0</td>\n",
       "      <td>0</td>\n",
       "      <td>0</td>\n",
       "      <td>0</td>\n",
       "      <td>0</td>\n",
       "      <td>0</td>\n",
       "      <td>0</td>\n",
       "      <td>1</td>\n",
       "    </tr>\n",
       "    <tr>\n",
       "      <th>131</th>\n",
       "      <td>273388150</td>\n",
       "      <td>9.7668</td>\n",
       "      <td>68.7159</td>\n",
       "      <td>Tanker</td>\n",
       "      <td>5075</td>\n",
       "      <td>140.85</td>\n",
       "      <td>16.86</td>\n",
       "      <td>0</td>\n",
       "      <td>0</td>\n",
       "      <td>0</td>\n",
       "      <td>...</td>\n",
       "      <td>0</td>\n",
       "      <td>0</td>\n",
       "      <td>0</td>\n",
       "      <td>0</td>\n",
       "      <td>0</td>\n",
       "      <td>0</td>\n",
       "      <td>0</td>\n",
       "      <td>0</td>\n",
       "      <td>0</td>\n",
       "      <td>1</td>\n",
       "    </tr>\n",
       "    <tr>\n",
       "      <th>132</th>\n",
       "      <td>636092755</td>\n",
       "      <td>11.1554</td>\n",
       "      <td>73.7013</td>\n",
       "      <td>Tanker</td>\n",
       "      <td>23240</td>\n",
       "      <td>183.00</td>\n",
       "      <td>27.37</td>\n",
       "      <td>0</td>\n",
       "      <td>0</td>\n",
       "      <td>0</td>\n",
       "      <td>...</td>\n",
       "      <td>0</td>\n",
       "      <td>0</td>\n",
       "      <td>0</td>\n",
       "      <td>0</td>\n",
       "      <td>0</td>\n",
       "      <td>0</td>\n",
       "      <td>0</td>\n",
       "      <td>0</td>\n",
       "      <td>0</td>\n",
       "      <td>1</td>\n",
       "    </tr>\n",
       "    <tr>\n",
       "      <th>133</th>\n",
       "      <td>357100000</td>\n",
       "      <td>11.2703</td>\n",
       "      <td>59.3888</td>\n",
       "      <td>Cargo</td>\n",
       "      <td>43717</td>\n",
       "      <td>229.04</td>\n",
       "      <td>32.31</td>\n",
       "      <td>0</td>\n",
       "      <td>0</td>\n",
       "      <td>0</td>\n",
       "      <td>...</td>\n",
       "      <td>0</td>\n",
       "      <td>0</td>\n",
       "      <td>0</td>\n",
       "      <td>0</td>\n",
       "      <td>0</td>\n",
       "      <td>0</td>\n",
       "      <td>0</td>\n",
       "      <td>0</td>\n",
       "      <td>0</td>\n",
       "      <td>1</td>\n",
       "    </tr>\n",
       "  </tbody>\n",
       "</table>\n",
       "<p>134 rows × 24 columns</p>\n",
       "</div>"
      ],
      "text/plain": [
       "          MMSI    Speed      COG Ship_type  Gross_tonnage  Length  Breadth  \\\n",
       "0    212209000  10.1377  64.3074     Cargo           3416   94.91    15.34   \n",
       "1    212436000  13.5256  77.0755    Tanker           6280  116.90    18.00   \n",
       "2    219082000   9.9416  74.6762    Tanker           9980  141.20    21.90   \n",
       "3    219083000  11.6038  74.7529    Tanker           9980  141.20    21.60   \n",
       "4    219426000  11.9203  56.3253    Tanker           3219   99.90    15.00   \n",
       "..         ...      ...      ...       ...            ...     ...      ...   \n",
       "129  273374820  10.0396  74.6253    Tanker           4979  139.90    16.70   \n",
       "130  273385070   9.3507  74.5454    Tanker           4979  139.90    16.94   \n",
       "131  273388150   9.7668  68.7159    Tanker           5075  140.85    16.86   \n",
       "132  636092755  11.1554  73.7013    Tanker          23240  183.00    27.37   \n",
       "133  357100000  11.2703  59.3888     Cargo          43717  229.04    32.31   \n",
       "\n",
       "     Destination_Hamina  Destination_Helsinki  Destination_Kotka  ...  \\\n",
       "0                     1                     0                  0  ...   \n",
       "1                     1                     0                  0  ...   \n",
       "2                     1                     0                  0  ...   \n",
       "3                     1                     0                  0  ...   \n",
       "4                     1                     0                  0  ...   \n",
       "..                  ...                   ...                ...  ...   \n",
       "129                   0                     0                  0  ...   \n",
       "130                   0                     0                  0  ...   \n",
       "131                   0                     0                  0  ...   \n",
       "132                   0                     0                  0  ...   \n",
       "133                   0                     0                  0  ...   \n",
       "\n",
       "     Destination_Porvoo  Destination_Primorsk  Destination_Sillamae  \\\n",
       "0                     0                     0                     0   \n",
       "1                     0                     0                     0   \n",
       "2                     0                     0                     0   \n",
       "3                     0                     0                     0   \n",
       "4                     0                     0                     0   \n",
       "..                  ...                   ...                   ...   \n",
       "129                   0                     0                     0   \n",
       "130                   0                     0                     0   \n",
       "131                   0                     0                     0   \n",
       "132                   0                     0                     0   \n",
       "133                   0                     0                     0   \n",
       "\n",
       "     Destination_Sillamäe  Destination_Tallinn  Destination_Ust-Luga  \\\n",
       "0                       0                    0                     0   \n",
       "1                       0                    0                     0   \n",
       "2                       0                    0                     0   \n",
       "3                       0                    0                     0   \n",
       "4                       0                    0                     0   \n",
       "..                    ...                  ...                   ...   \n",
       "129                     0                    0                     0   \n",
       "130                     0                    0                     0   \n",
       "131                     0                    0                     0   \n",
       "132                     0                    0                     0   \n",
       "133                     0                    0                     0   \n",
       "\n",
       "     Destination_Valko-Loviisa  Destination_Viipuri  Destination_Vuosaari  \\\n",
       "0                            0                    0                     0   \n",
       "1                            0                    0                     0   \n",
       "2                            0                    0                     0   \n",
       "3                            0                    0                     0   \n",
       "4                            0                    0                     0   \n",
       "..                         ...                  ...                   ...   \n",
       "129                          0                    0                     0   \n",
       "130                          0                    0                     0   \n",
       "131                          0                    0                     0   \n",
       "132                          0                    0                     0   \n",
       "133                          0                    0                     0   \n",
       "\n",
       "     Destination_Vysotsk  \n",
       "0                      0  \n",
       "1                      0  \n",
       "2                      0  \n",
       "3                      0  \n",
       "4                      0  \n",
       "..                   ...  \n",
       "129                    1  \n",
       "130                    1  \n",
       "131                    1  \n",
       "132                    1  \n",
       "133                    1  \n",
       "\n",
       "[134 rows x 24 columns]"
      ]
     },
     "execution_count": 11,
     "metadata": {},
     "output_type": "execute_result"
    }
   ],
   "source": [
    "### Code for 1.b)\n",
    "category_to_num = pd.get_dummies(data, columns=['Destination'])\n",
    "category_to_num"
   ]
  },
  {
   "cell_type": "markdown",
   "metadata": {},
   "source": [
    "<font color = red> \\*** Numerical data can be used for calculation in statistic and categorical data can be used for research purpouses which require eg. a opinnion. ***"
   ]
  },
  {
   "cell_type": "markdown",
   "metadata": {
    "id": "3rEY4Vf6oDwz"
   },
   "source": [
    "_______________\n",
    "####  <font color = dimgrey> c) Plot Gross tonnage versus the ship Length. \n",
    "\n",
    "- Use different colors for different ship types. According to the plot, there is one <b> clear </b> outlier. <b> Correct the outlying value by changing it to the value 326 </b> and rerun the plot after you have made the correction. **1p**\n",
    "- If you want to do things very nicely you could wrap the plotting in a function so you don't paste the same code twice, but this is not required."
   ]
  },
  {
   "cell_type": "code",
   "execution_count": 28,
   "metadata": {
    "id": "q2rk7xP1oDwz",
    "outputId": "fa2c0480-18c7-4e41-cc31-a77dc1cfa5ab"
   },
   "outputs": [
    {
     "data": {
      "text/plain": [
       "<seaborn.axisgrid.FacetGrid at 0x7fedc4326040>"
      ]
     },
     "execution_count": 28,
     "metadata": {},
     "output_type": "execute_result"
    },
    {
     "data": {
      "image/png": "[encoded data removed]",
      "text/plain": [
       "<Figure size 428.5x360 with 1 Axes>"
      ]
     },
     "metadata": {
      "needs_background": "light"
     },
     "output_type": "display_data"
    }
   ],
   "source": [
    "### Code for 1 c) plot with the outlier\n",
    "\n",
    "sb.lmplot(x='Length', y='Gross_tonnage', data=data, hue='Ship_type')"
   ]
  },
  {
   "cell_type": "code",
   "execution_count": 33,
   "metadata": {
    "id": "KbFj25Z1oDw0",
    "outputId": "4de8d8fe-b906-4f0d-afe5-a19468d2ecb3"
   },
   "outputs": [
    {
     "data": {
      "text/plain": [
       "Ship_type\n",
       "Cargo      3259.0\n",
       "Tanker    10957.5\n",
       "Tug         256.0\n",
       "Name: Gross_tonnage, dtype: float64"
      ]
     },
     "execution_count": 33,
     "metadata": {},
     "output_type": "execute_result"
    },
    {
     "data": {
      "image/png": "[encoded data removed]",
      "text/plain": [
       "<Figure size 432x288 with 1 Axes>"
      ]
     },
     "metadata": {
      "needs_background": "light"
     },
     "output_type": "display_data"
    }
   ],
   "source": [
    "### Code for 1 c) find the outlier and replot\n",
    "data.boxplot(column='Gross_tonnage', by='Ship_type')\n",
    "data.groupby('Ship_type')['Gross_tonnage'].median()"
   ]
  },
  {
   "cell_type": "code",
   "execution_count": null,
   "metadata": {},
   "outputs": [],
   "source": []
  },
  {
   "cell_type": "code",
   "execution_count": 8,
   "metadata": {},
   "outputs": [],
   "source": [
    "### Code for 1 c) rerun the plot with the correction made"
   ]
  },
  {
   "cell_type": "markdown",
   "metadata": {
    "id": "SPBpWAZNoDw0"
   },
   "source": [
    "#### <font color = dimgrey> d) Exploit your domain knowledge and transform to improve the expected results and/or to avoid redundancy. \n",
    "- Find out what gross tonnage means. Make some transformation to Length values to acquire a linear relationship between the transformed length and Gross tonnage values. Plot the situation after the transformation **1p** \n",
    "- You can find the needed information in for example https://en.wikipedia.org/wiki/Gross_tonnage. Look at the formula and think how you can get the two variables similarly scaled. If you are having trouble, just experiment with different transformations before asking help. By plotting you can see what the relationship looks like after a transformation you have tried\n",
    "  "
   ]
  },
  {
   "cell_type": "code",
   "execution_count": 9,
   "metadata": {
    "id": "Zjf5fmb3oDw1",
    "outputId": "9eea64d6-470d-42fb-bd97-282b786c798f"
   },
   "outputs": [],
   "source": [
    "### Code for 1d "
   ]
  },
  {
   "cell_type": "markdown",
   "metadata": {
    "id": "M5-BsrlKoDw1"
   },
   "source": [
    "<font color = red> \\*** Answer here *** what does gross tonnage mean? What transformation did you do? Why is it useful? "
   ]
  },
  {
   "cell_type": "markdown",
   "metadata": {
    "id": "_0oDznjPoDw1"
   },
   "source": [
    "#### <font color = dimgrey> e) The numerical variables have quite different ranges. To ensure that all variables can have the same importance on the model, perform Z-score standardization. Perform it for speed, transformed length, and breadth **1p**"
   ]
  },
  {
   "cell_type": "code",
   "execution_count": 10,
   "metadata": {
    "id": "17g51D6NoDw2",
    "outputId": "ccfcf1cd-459c-4a8a-f3cd-ab711c1f9aea"
   },
   "outputs": [],
   "source": [
    "### Code for 1e"
   ]
  },
  {
   "cell_type": "markdown",
   "metadata": {},
   "source": [
    "______________\n",
    "## <font color = lightcoral>2. Classification </font> "
   ]
  },
  {
   "cell_type": "markdown",
   "metadata": {
    "id": "7CqWZYx2oDw3"
   },
   "source": [
    "Predict the **ship type** using **speed, destination, transformed length, and breadth** as features. Find an estimation for the classification accuracy (number of correctly classified ships to the total number of ships) using **random training and test sets**. <br>\n",
    "\n",
    "Below is a summary of exercises for part 2\n",
    "- a) Produce training and test data **1p**\n",
    "     - Gather the normalized features and one-hot-coded destination columns as array __X__ (input variables), and the ship type as array **y** (output variable)     \n",
    "     - Divide the data randomly into training (20%) and test (80%) sets\n",
    "     - Do you need to use stratification? **Explain your decision**\n",
    "- b) Train the model and test its performance **1p**\n",
    "     - Use kNN classifier with k=3\n",
    "     - Print out the confusion matrix. How does the model perform with different ship types?\n",
    "     - What is the (total) classification accuracy?\n",
    " - Repeat the calculation 1000 times with different split of training/test data, and make a histogram of the results for classification accuracy **1p**\n",
    " - Discuss your results **1p**\n",
    " \n",
    " ______________"
   ]
  },
  {
   "cell_type": "markdown",
   "metadata": {
    "id": "mfq_3_WNoDw3"
   },
   "source": [
    "#### <font color = lightcoral> a) Produce training and test data 1p\n",
    "- Gather the normalized features and one-hot-coded destination columns as array X (input variables), and the ship type as array y (output variable)\n",
    "- Divide the data randomly into training (20%) and test (80%) sets\n",
    "- Do you need to use stratification? **Explain your decision**"
   ]
  },
  {
   "cell_type": "code",
   "execution_count": 11,
   "metadata": {
    "id": "h5p9ZVQBoDw3"
   },
   "outputs": [],
   "source": [
    "### Code for 2a"
   ]
  },
  {
   "cell_type": "markdown",
   "metadata": {
    "id": "daPc_o9boDw3"
   },
   "source": [
    "<font color = red> \\*** Answer here (do you need to use strafication? Explain your decision) ***"
   ]
  },
  {
   "cell_type": "markdown",
   "metadata": {
    "id": "muqCazPIoDw4"
   },
   "source": [
    "_______________\n",
    "#### <font color = lightcoral> b) Train the model and test its performance 1p\n",
    "- Use a kNN classifier with k=3\n",
    "- Print out the confusion matrix. <br>\n",
    "- How does the model perform with different ship types? Where do you think the differences come from?<br>\n",
    "- What is the (total) classification accuracy?"
   ]
  },
  {
   "cell_type": "code",
   "execution_count": 12,
   "metadata": {
    "id": "NMR7Y2s6oDw4",
    "outputId": "33bd42f3-a25c-47de-cb12-908d698d08af"
   },
   "outputs": [],
   "source": [
    "### Code for 2b"
   ]
  },
  {
   "cell_type": "markdown",
   "metadata": {
    "id": "1ceztBiPoDw4"
   },
   "source": [
    "<font color = red> \\*** Answer here *** - Discuss your results. What can you see? What do you think is relevant?"
   ]
  },
  {
   "cell_type": "markdown",
   "metadata": {
    "id": "gQfehqAioDw4"
   },
   "source": [
    "__________\n",
    "## 3. <font color = navy> Classification accuracy using leave-one-out cross validation"
   ]
  },
  {
   "cell_type": "markdown",
   "metadata": {
    "id": "DPZx-6JLoDw5"
   },
   "source": [
    "Again, predict the **ship type** using **speed, destination, transformed length, and breadth** of the ship as features. Find an estimation for the classification accuracy using *leave-one-out cross validation (LOO CV)*. <br>\n",
    "\n",
    " - a) Use leave-one-out cross validation to estimate the model performance **1p**\n",
    "     - Use kNN classifier with k=3\n",
    "     - What is the classification accuracy? Compare the result with the one you got in the previous task\n",
    " - b) Which method gives better evaluation of the performance of the classifier with this data set? Explain your choice **1p**"
   ]
  },
  {
   "cell_type": "code",
   "execution_count": 13,
   "metadata": {
    "id": "znHjVwKDoDw5",
    "outputId": "3b73cc4a-eef7-4e9e-be17-19d79df71033"
   },
   "outputs": [],
   "source": [
    "### Code for 3"
   ]
  },
  {
   "cell_type": "markdown",
   "metadata": {
    "id": "TXJmJ80DoDw5"
   },
   "source": [
    "#### a) <font color = navy> What is the classification accuracy? Compare the result with the one you got in the previous task **1p**\n",
    "\n",
    "<font color = red> \\*** Answer here *** </font>\n",
    "    \n",
    "#### b) <font color = navy>  Which method gives better evaluation of the performance of the classifier with this data set? Why? 1p\n",
    "\n",
    "<font color = red> \\*** Answer here ***"
   ]
  },
  {
   "cell_type": "markdown",
   "metadata": {
    "id": "88BjCQL6oDw5"
   },
   "source": [
    "____________\n",
    "## <font color = forestgreen> 4. Model selection with leave-one-out cross validation"
   ]
  },
  {
   "cell_type": "markdown",
   "metadata": {
    "id": "A8fcES_LoDw5"
   },
   "source": [
    "- a) Select the best model (kNN with selection of k) using leave-one-out cross validation (Repeat the model performance estimation with values k=1...30). Which value of k produces the best classification accuracy? **2p**\n",
    "- b) If the number of k is still increased, what is the limit that the **1p** classification accuracy approaches? Why?\n",
    "- d) Can you say something about the performance of this *selected* model with new, unseen data? Explain, how you could you estimate the performance of this selected model. **1p** "
   ]
  },
  {
   "cell_type": "code",
   "execution_count": 14,
   "metadata": {
    "id": "RJ7570_ZoDw6",
    "outputId": "91caaf74-2636-46f7-a4e3-4e5ba98e4c4e"
   },
   "outputs": [],
   "source": [
    "# Code for 4"
   ]
  },
  {
   "cell_type": "markdown",
   "metadata": {
    "id": "qKsgAEyWoDw6"
   },
   "source": [
    "#### <font color = forestgreen>  a) Which value of k produces the best classification accuracy? **1p**</font>"
   ]
  },
  {
   "cell_type": "markdown",
   "metadata": {},
   "source": [
    "<font color = red> \\*** Answer here ***"
   ]
  },
  {
   "cell_type": "markdown",
   "metadata": {},
   "source": [
    "#### <font color = forestgreen> b) If the number of k is still increased, what is the limit that the classification accuracy approaches? Why?"
   ]
  },
  {
   "cell_type": "markdown",
   "metadata": {},
   "source": [
    "<font color = red> \\*** Answer here ***"
   ]
  },
  {
   "cell_type": "markdown",
   "metadata": {},
   "source": [
    "#### <font color = forestgreen> c) Can you say something about the performance of this *selected* model with new, unseen data? Explain, how you could you estimate the performance of this selected model. **1p**"
   ]
  },
  {
   "cell_type": "markdown",
   "metadata": {},
   "source": [
    "<font color = red> \\*** Answer here ***"
   ]
  },
  {
   "cell_type": "markdown",
   "metadata": {
    "id": "9r2v1LEDoDw6"
   },
   "source": [
    "________________\n",
    "### <font color = red>  5. Testing with training data <font color = red> (this should never be done out of this exercise!) </font>"
   ]
  },
  {
   "cell_type": "markdown",
   "metadata": {
    "id": "j6B6L5HWoDw6"
   },
   "source": [
    "- Repeat the previous task but use the whole data for training **2p**\n",
    "- Plot the resulting classification accuracy versus k=1...30. **Include the values from the previous task in the same figure**\n",
    "- Comment your result. **Why** shouldn't you test with training data?"
   ]
  },
  {
   "cell_type": "code",
   "execution_count": 15,
   "metadata": {
    "id": "ExWjmjQ5oDw6",
    "outputId": "f7bd8eac-a636-400b-a8a4-9ca269129628"
   },
   "outputs": [],
   "source": [
    "### CODE FOR 5: Repeat the previous task but use whole data for training"
   ]
  },
  {
   "cell_type": "code",
   "execution_count": 16,
   "metadata": {
    "id": "nbBQekY1oDw6",
    "outputId": "3c06f464-b5ed-46ce-994e-251b1486b04c",
    "scrolled": true
   },
   "outputs": [],
   "source": [
    "### CODE FOR 5: The plot"
   ]
  },
  {
   "cell_type": "markdown",
   "metadata": {},
   "source": [
    " <font color = red> \\*** Answer here ***"
   ]
  }
 ],
 "metadata": {
  "colab": {
   "name": "DADK2020_ex3_Valtteri_Nieminen.ipynb",
   "provenance": []
  },
  "interpreter": {
   "hash": "7eadf99e28c596a95959f243ce7873359d00fea1add5b64cd4387e47bc80af4a"
  },
  "kernelspec": {
   "display_name": "Python 3.8.10 64-bit ('env': venv)",
   "name": "python3"
  },
  "language_info": {
   "codemirror_mode": {
    "name": "ipython",
    "version": 3
   },
   "file_extension": ".py",
   "mimetype": "text/x-python",
   "name": "python",
   "nbconvert_exporter": "python",
   "pygments_lexer": "ipython3",
   "version": "3.8.10"
  },
  "toc": {
   "base_numbering": 1,
   "nav_menu": {
    "height": "180px",
    "width": "160px"
   },
   "number_sections": true,
   "sideBar": true,
   "skip_h1_title": true,
   "title_cell": "Table of Contents",
   "title_sidebar": "Contents",
   "toc_cell": false,
   "toc_position": {},
   "toc_section_display": true,
   "toc_window_display": false
  }
 },
 "nbformat": 4,
 "nbformat_minor": 1
}
